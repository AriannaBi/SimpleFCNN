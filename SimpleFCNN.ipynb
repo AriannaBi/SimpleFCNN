{
  "cells": [
    {
      "cell_type": "markdown",
      "metadata": {
        "id": "view-in-github",
        "colab_type": "text"
      },
      "source": [
        "<a href=\"https://colab.research.google.com/github/AriannaBi/SimpleFCNN/blob/main/SimpleFCNN.ipynb\" target=\"_parent\"><img src=\"https://colab.research.google.com/assets/colab-badge.svg\" alt=\"Open In Colab\"/></a>"
      ]
    },
    {
      "cell_type": "code",
      "execution_count": 12,
      "metadata": {
        "id": "xZrj6w1BVs-U"
      },
      "outputs": [],
      "source": [
        "import pandas as pd\n",
        "import pyarrow.parquet as pq\n",
        "import numpy as np\n",
        "import csv\n",
        "import torch"
      ]
    },
    {
      "cell_type": "markdown",
      "metadata": {
        "id": "J9mME_DmoQbQ"
      },
      "source": [
        "Function to read the name of the files"
      ]
    },
    {
      "cell_type": "code",
      "execution_count": 58,
      "metadata": {
        "id": "UEn79B3hoH92"
      },
      "outputs": [],
      "source": [
        "def type_file(name):\n",
        "    name_file = name.split('/')[3][:3]\n",
        "    # print(name_file)\n",
        "    if name_file == 'EDA':\n",
        "        return 0, 0\n",
        "    elif name_file == 'BVP':\n",
        "        return '250ms', 1\n",
        "    elif name_file == 'ACC':\n",
        "        return '250ms', 2\n",
        "    elif name_file == 'TEM':\n",
        "        return 0, 5\n",
        "    return -1"
      ]
    },
    {
      "cell_type": "code",
      "execution_count": 73,
      "metadata": {
        "colab": {
          "base_uri": "https://localhost:8080/"
        },
        "id": "yVvySfZ9oeYX",
        "outputId": "8f68fbe2-c92d-4660-a164-d86fbcc4f8ff"
      },
      "outputs": [
        {
          "output_type": "stream",
          "name": "stdout",
          "text": [
            "126 304393\n",
            "52 124800\n",
            "83 199372\n",
            "53 129024\n",
            "[[[ 0.  0.  0. ...  0.  0.  0.]\n",
            "  [ 0.  0.  0. ...  0.  0.  0.]\n",
            "  [ 0.  0.  0. ...  0.  0.  0.]\n",
            "  ...\n",
            "  [ 0.  0.  0. ...  0.  0.  0.]\n",
            "  [ 0.  0.  0. ...  0.  0.  0.]\n",
            "  [ 0.  0.  0. ...  0.  0.  0.]]\n",
            "\n",
            " [[nan nan nan ... nan nan nan]\n",
            "  [nan nan nan ... nan nan nan]\n",
            "  [nan nan nan ... nan nan nan]\n",
            "  ...\n",
            "  [ 0.  0.  0. ...  0.  0.  0.]\n",
            "  [ 0.  0.  0. ...  0.  0.  0.]\n",
            "  [ 0.  0.  0. ...  0.  0.  0.]]\n",
            "\n",
            " [[nan nan nan ... nan nan nan]\n",
            "  [nan nan nan ... nan nan nan]\n",
            "  [nan nan nan ... nan nan nan]\n",
            "  ...\n",
            "  [ 0.  0.  0. ...  0.  0.  0.]\n",
            "  [ 0.  0.  0. ...  0.  0.  0.]\n",
            "  [ 0.  0.  0. ...  0.  0.  0.]]\n",
            "\n",
            " [[nan nan nan ... nan nan nan]\n",
            "  [nan nan nan ... nan nan nan]\n",
            "  [nan nan nan ... nan nan nan]\n",
            "  ...\n",
            "  [ 0.  0.  0. ...  0.  0.  0.]\n",
            "  [ 0.  0.  0. ...  0.  0.  0.]\n",
            "  [ 0.  0.  0. ...  0.  0.  0.]]\n",
            "\n",
            " [[nan nan nan ... nan nan nan]\n",
            "  [nan nan nan ... nan nan nan]\n",
            "  [nan nan nan ... nan nan nan]\n",
            "  ...\n",
            "  [ 0.  0.  0. ...  0.  0.  0.]\n",
            "  [ 0.  0.  0. ...  0.  0.  0.]\n",
            "  [ 0.  0.  0. ...  0.  0.  0.]]\n",
            "\n",
            " [[nan nan nan ... nan nan nan]\n",
            "  [nan nan nan ... nan nan nan]\n",
            "  [nan nan nan ... nan nan nan]\n",
            "  ...\n",
            "  [ 0.  0.  0. ...  0.  0.  0.]\n",
            "  [ 0.  0.  0. ...  0.  0.  0.]\n",
            "  [ 0.  0.  0. ...  0.  0.  0.]]]\n"
          ]
        }
      ],
      "source": [
        "def read_data_locally(files):\n",
        "    leng = 0\n",
        "    for name_file in files:\n",
        "        table = pd.read_parquet(name_file, engine='pyarrow')\n",
        "        df = pd.DataFrame(table)\n",
        "        timestamp_col = pd.to_datetime(df['timestamp'], unit='s')\n",
        "        df['timestamp'] = timestamp_col\n",
        "        arr_type = type_file(name_file)\n",
        "        if arr_type == -1:\n",
        "            print(\"Error in the file name\")\n",
        "            return -1\n",
        "        if arr_type[0] != 0:\n",
        "            # print(\"resample stage\")\n",
        "            df = df.resample(arr_type[0], on='timestamp').mean()\n",
        "            df = df.reset_index()\n",
        "        leng += df.shape[0]//2400 + int(df.shape[0] % 2400 > 0)\n",
        "    tensor = np.zeros((6, leng, 2400),dtype=np.float64)\n",
        "\n",
        "\n",
        "\n",
        "     # NOW READ ALL THE FILES AND FILL THE TENSOR IN THE CORRESPONDING PLACE\n",
        "    arr_idx = [0,0,0,0,0,0]\n",
        "    for name_file in files:\n",
        "      # array of indices of row to fill\n",
        "      # EDA, BVP, ACCX, ACCY, ACCZ, TEMP\n",
        "      \n",
        "      # DataFrame\n",
        "      table = pd.read_parquet(name_file, engine='pyarrow')\n",
        "      # creating DataFrame\n",
        "      df = pd.DataFrame(table)\n",
        "      # converting timestamp\n",
        "      timestamp_col = pd.to_datetime(df['timestamp'], unit='s')\n",
        "      df['timestamp'] = timestamp_col\n",
        "      # get if file it's among EDA, BVP, ACC, ST, otherwise return error\n",
        "      arr_type = type_file(name_file)\n",
        "      if arr_type == -1:\n",
        "          print(\"Error in the file name\")\n",
        "          return -1\n",
        "\n",
        "      # RESAMPLE the tensor\n",
        "      # 0 means it's already 4Hz, otherwise resample with '250ms'\n",
        "      if arr_type[0] != 0:\n",
        "          # print(\"resample stage\")\n",
        "          df = df.resample(arr_type[0], on='timestamp').mean()\n",
        "          df = df.reset_index()\n",
        "\n",
        "\n",
        "\n",
        "      # FILL the tensor\n",
        "      # number_rows = df.shape[0]//2400 + int(df.shape[0] % 2400 > 0)\n",
        "      number_rows = df.shape[0]//2400\n",
        "      print(number_rows, df.shape[0])\n",
        "      # if not ACC, fill the #st matrix\n",
        "      if arr_type[1] != 2:\n",
        "          # print(\"fill tensor stage not ACC\")\n",
        "          position_element_in_column = 0\n",
        "          row_to_fill = arr_idx[arr_type[1]]\n",
        "\n",
        "          for j in range(row_to_fill, number_rows):\n",
        "            # everytime it enter the loop add one row\n",
        "              arr_idx[arr_type[1]] += 1\n",
        "              for k in range(2400):\n",
        "                  tensor[arr_type[1]][j][k] = df['value'][position_element_in_column]\n",
        "                  position_element_in_column += 1\n",
        "      # otherwise fill ACC_X, ACC_Y, ACC_Z\n",
        "      elif arr_type[1] == 2:\n",
        "          # print(\"fill tensor stage of ACC\")\n",
        "          list_axis_ACC = ['X', 'Y', 'Z']\n",
        "          for idx, axis in enumerate(list_axis_ACC):\n",
        "              index = 2 + idx\n",
        "              row_to_fill = arr_idx[index]\n",
        "              position_element_in_column = 0\n",
        "              for j in range(row_to_fill, number_rows):\n",
        "                  for k in range(2400):\n",
        "                      tensor[index][j][k] = df[axis][position_element_in_column]\n",
        "                      position_element_in_column += 1\n",
        "          \n",
        "      \n",
        "    print(tensor)\n",
        "    # print(arr_idx)\n",
        "\n",
        "    # for elem in tensor[1]:\n",
        "    #     print(elem)\n",
        "\n",
        "\n",
        "\n",
        "\n",
        "      # with open('modified.csv', 'w') as csvfile:\n",
        "      #       fieldnames = ['Date', 'Value']\n",
        "      #       writer = csv.DictWriter(csvfile, fieldnames=fieldnames)\n",
        "      #       writer.writeheader()\n",
        "      #       for i in range(0, df.shape[0]):\n",
        "      #           writer.writerow({'Date': df['timestamp'][i], 'Value': df['value'][i]})\n",
        "\n",
        "\n",
        "      \n",
        "      # for i in range(0, len(tensor[1])):\n",
        "      #   for j in range(0, len(tensor[1][i])):\n",
        "      #     print(tensor[1][i][j])\n",
        "\n",
        "      \n",
        "\n",
        "\n",
        "          \n",
        "\n",
        "list_files = ['./drive/MyDrive/ACC_22.parquet', './drive/MyDrive/BVP_41.parquet', './drive/MyDrive/BVP_26.parquet', './drive/MyDrive/TEMP_25.parquet']\n",
        "# './drive/MyDrive/ACC_07.parquet', ]\n",
        "read_data_locally(list_files)\n"
      ]
    },
    {
      "cell_type": "markdown",
      "metadata": {
        "id": "FKRxrVG1vSWu"
      },
      "source": [
        "prendo il tensor, leggo un file e faccio reshsape di tutto in base a quella dimensione.\n",
        "reshape per ogni matrix tengo un indice che mi dice la riga da cui devo iniziare per fare il fill.\n",
        "\n",
        "oppure leggo un file e costruisco una list, poi converto la list in tensor or np.array"
      ]
    },
    {
      "cell_type": "code",
      "execution_count": null,
      "metadata": {
        "id": "rOWGWwiDuelw"
      },
      "outputs": [],
      "source": [
        "# create 6 matrices with rows and cols ( create TENSOR)\n",
        "        # i - z axis            6\n",
        "        # j - y axis (rows)     df.shape[0]/2400 (how many windows)\n",
        "        # k - x axis (cols)     2400\n",
        "        # number_rows = int(df.shape[0] // 2400)\n",
        "        # tensor = torch.zeros((6, number_rows, 2400), dtype=torch.float64)\n",
        "        # print(tensor)\n",
        "\n",
        "        # # FILL the tensor\n",
        "        # # if not ACC, fill the #st matrix\n",
        "        # if arr_type[1] != 2:\n",
        "        #     print(\"fill tensor stage not ACC\")\n",
        "        #     position_element_in_column = 0\n",
        "        #     for j in range(number_rows):\n",
        "        #         for k in range(2400):\n",
        "        #             tensor[arr_type[1]][j][k] = df['value'][position_element_in_column]\n",
        "        #             position_element_in_column +=  1\n",
        "        #     print(tensor)\n",
        "\n",
        "        # # otherwise fill ACC_X, ACC_Y, ACC_Z\n",
        "        # elif arr_type[1] == 2:\n",
        "        #     print(\"fill tensor stage of ACC\")\n",
        "        #     list_axis_ACC = ['X', 'Y', 'Z']\n",
        "        #     for idx, axis in enumerate(list_axis_ACC):\n",
        "        #         position_element_in_column = 0\n",
        "        #         for j in range(number_rows):\n",
        "        #             for k in range(2400):\n",
        "        #                 tensor[idx+2][j][k] = df[axis][position_element_in_column]\n",
        "                        # position_element_in_column += 1\n",
        "            # print(tensor)"
      ]
    },
    {
      "cell_type": "code",
      "execution_count": null,
      "metadata": {
        "colab": {
          "base_uri": "https://localhost:8080/",
          "height": 240
        },
        "id": "IEmuBgL8snEL",
        "outputId": "d58a33dd-a5b7-4c8c-e1c7-b7130b267c38"
      },
      "outputs": [
        {
          "output_type": "error",
          "ename": "ValueError",
          "evalue": "ignored",
          "traceback": [
            "\u001b[0;31m---------------------------------------------------------------------------\u001b[0m",
            "\u001b[0;31mValueError\u001b[0m                                Traceback (most recent call last)",
            "\u001b[0;32m<ipython-input-167-ddee22584079>\u001b[0m in \u001b[0;36m<module>\u001b[0;34m()\u001b[0m\n\u001b[1;32m     11\u001b[0m \u001b[0mx\u001b[0m\u001b[0;34m[\u001b[0m\u001b[0;36m0\u001b[0m\u001b[0;34m]\u001b[0m\u001b[0;34m[\u001b[0m\u001b[0;36m1\u001b[0m\u001b[0;34m]\u001b[0m\u001b[0;34m[\u001b[0m\u001b[0;36m1\u001b[0m\u001b[0;34m]\u001b[0m \u001b[0;34m=\u001b[0m \u001b[0;36m4.\u001b[0m\u001b[0;34m\u001b[0m\u001b[0;34m\u001b[0m\u001b[0m\n\u001b[1;32m     12\u001b[0m \u001b[0;34m\u001b[0m\u001b[0m\n\u001b[0;32m---> 13\u001b[0;31m \u001b[0mx\u001b[0m\u001b[0;34m[\u001b[0m\u001b[0;36m0\u001b[0m\u001b[0;34m]\u001b[0m \u001b[0;34m=\u001b[0m \u001b[0mnp\u001b[0m\u001b[0;34m.\u001b[0m\u001b[0mvstack\u001b[0m\u001b[0;34m(\u001b[0m\u001b[0;34m(\u001b[0m\u001b[0mx\u001b[0m\u001b[0;34m[\u001b[0m\u001b[0;36m0\u001b[0m\u001b[0;34m]\u001b[0m\u001b[0;34m,\u001b[0m\u001b[0mlista\u001b[0m\u001b[0;34m)\u001b[0m\u001b[0;34m)\u001b[0m\u001b[0;34m\u001b[0m\u001b[0;34m\u001b[0m\u001b[0m\n\u001b[0m\u001b[1;32m     14\u001b[0m \u001b[0mx\u001b[0m\u001b[0;34m\u001b[0m\u001b[0;34m\u001b[0m\u001b[0m\n\u001b[1;32m     15\u001b[0m \u001b[0;31m# # print(x , '\\n\\n\\n')\u001b[0m\u001b[0;34m\u001b[0m\u001b[0;34m\u001b[0m\u001b[0;34m\u001b[0m\u001b[0m\n",
            "\u001b[0;31mValueError\u001b[0m: could not broadcast input array from shape (3,2) into shape (2,2)"
          ]
        }
      ],
      "source": [
        "# x = np.array([0., 1., 2., 3., 4., 5., 6., 7., 8., 9.,10.,11.])\n",
        "# x = x.reshape(2,2,3)\n",
        "x = np.zeros((3,2,2))\n",
        "# calc lenght = 9 elem\n",
        "lista = [11.,22.]\n",
        "# len = list.lenght/2 + (list.lenght % 2 >0)\n",
        "# len\n",
        "x[0][0][0] = 1.\n",
        "x[0][0][1] = 2.\n",
        "x[0][1][0] = 3.\n",
        "x[0][1][1] = 4.\n",
        "\n",
        "# x[0] = np.vstack((x[0],lista))\n",
        "x\n",
        "# # print(x , '\\n\\n\\n')\n",
        "# y = np.array([111,222,333,444,555,666,777,888,999,100,111,122])\n",
        "# y = y.reshape(2,2,3)\n",
        "# # print(y , '\\n\\n\\n')\n",
        "# z = np.concatenate((x[0], y[0]), axis = 1)\n",
        "# # z\n",
        "# b = [[[1,2,], [3,4]], [[5,6]]]\n",
        "# a = [[7,8]]\n",
        "# b = b[0] + a\n",
        "# # x[0] = z\n",
        "\n",
        "\n",
        "\n",
        "# a = np.array(b)\n",
        "# a"
      ]
    }
  ],
  "metadata": {
    "colab": {
      "collapsed_sections": [],
      "name": "SimpleFCNN.ipynb",
      "provenance": [],
      "mount_file_id": "1GxsuaSJVLGZpOFl7vSVxBDRjyICvQ2vo",
      "authorship_tag": "ABX9TyNKOTFJ3Spbq49326k1I2AO",
      "include_colab_link": true
    },
    "kernelspec": {
      "display_name": "Python 3",
      "name": "python3"
    },
    "language_info": {
      "name": "python"
    }
  },
  "nbformat": 4,
  "nbformat_minor": 0
}