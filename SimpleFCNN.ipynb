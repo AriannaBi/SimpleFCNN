{
  "cells": [
    {
      "cell_type": "markdown",
      "metadata": {
        "id": "view-in-github",
        "colab_type": "text"
      },
      "source": [
        "<a href=\"https://colab.research.google.com/github/AriannaBi/SimpleFCNN/blob/main/SimpleFCNN.ipynb\" target=\"_parent\"><img src=\"https://colab.research.google.com/assets/colab-badge.svg\" alt=\"Open In Colab\"/></a>"
      ]
    },
    {
      "cell_type": "code",
      "execution_count": 12,
      "metadata": {
        "id": "xZrj6w1BVs-U"
      },
      "outputs": [],
      "source": [
        "import pandas as pd\n",
        "import pyarrow.parquet as pq\n",
        "import numpy as np\n",
        "import csv\n",
        "import torch"
      ]
    },
    {
      "cell_type": "markdown",
      "metadata": {
        "id": "J9mME_DmoQbQ"
      },
      "source": [
        "Function to read the name of the files"
      ]
    },
    {
      "cell_type": "code",
      "execution_count": 58,
      "metadata": {
        "id": "UEn79B3hoH92"
      },
      "outputs": [],
      "source": [
        "def type_file(name):\n",
        "    name_file = name.split('/')[3][:3]\n",
        "    # print(name_file)\n",
        "    if name_file == 'EDA':\n",
        "        return 0, 0\n",
        "    elif name_file == 'BVP':\n",
        "        return '250ms', 1\n",
        "    elif name_file == 'ACC':\n",
        "        return '250ms', 2\n",
        "    elif name_file == 'TEM':\n",
        "        return 0, 5\n",
        "    return -1"
      ]
    },
    {
      "cell_type": "markdown",
      "metadata": {
        "id": "FKRxrVG1vSWu"
      },
      "source": [
        "Leggo tutti i file per poter creare il tensor con le dimensioni adatte. \n",
        "Per ogni file riempio il tensor."
      ]
    },
    {
      "cell_type": "code",
      "source": [
        "def create_tensor(files):\n",
        "    leng = 0\n",
        "    for name_file in files:\n",
        "        table = pd.read_parquet(name_file, engine='pyarrow')\n",
        "        df = pd.DataFrame(table)\n",
        "        timestamp_col = pd.to_datetime(df['timestamp'], unit='s')\n",
        "        df['timestamp'] = timestamp_col\n",
        "        arr_type = type_file(name_file)\n",
        "        if arr_type == -1:\n",
        "            print(\"Error in the file name\")\n",
        "            return -1\n",
        "        if arr_type[0] != 0:\n",
        "            df = df.resample(arr_type[0], on='timestamp').mean()\n",
        "            df = df.reset_index()\n",
        "        leng += df.shape[0]//2400 + int(df.shape[0] % 2400 > 0)\n",
        "        tensor = np.zeros((6, leng, 2400),dtype=np.float64)\n",
        "    return tensor\n"
      ],
      "metadata": {
        "id": "O4w0tPl9DBOY"
      },
      "execution_count": 79,
      "outputs": []
    },
    {
      "cell_type": "code",
      "execution_count": 80,
      "metadata": {
        "colab": {
          "base_uri": "https://localhost:8080/"
        },
        "id": "yVvySfZ9oeYX",
        "outputId": "6fef5f27-a56a-4071-d4e1-aa36b809ad30"
      },
      "outputs": [
        {
          "output_type": "stream",
          "name": "stdout",
          "text": [
            "126 304393\n",
            "52 124800\n",
            "83 199372\n",
            "53 129024\n",
            "[[[ 0.  0.  0. ...  0.  0.  0.]\n",
            "  [ 0.  0.  0. ...  0.  0.  0.]\n",
            "  [ 0.  0.  0. ...  0.  0.  0.]\n",
            "  ...\n",
            "  [ 0.  0.  0. ...  0.  0.  0.]\n",
            "  [ 0.  0.  0. ...  0.  0.  0.]\n",
            "  [ 0.  0.  0. ...  0.  0.  0.]]\n",
            "\n",
            " [[nan nan nan ... nan nan nan]\n",
            "  [nan nan nan ... nan nan nan]\n",
            "  [nan nan nan ... nan nan nan]\n",
            "  ...\n",
            "  [ 0.  0.  0. ...  0.  0.  0.]\n",
            "  [ 0.  0.  0. ...  0.  0.  0.]\n",
            "  [ 0.  0.  0. ...  0.  0.  0.]]\n",
            "\n",
            " [[nan nan nan ... nan nan nan]\n",
            "  [nan nan nan ... nan nan nan]\n",
            "  [nan nan nan ... nan nan nan]\n",
            "  ...\n",
            "  [ 0.  0.  0. ...  0.  0.  0.]\n",
            "  [ 0.  0.  0. ...  0.  0.  0.]\n",
            "  [ 0.  0.  0. ...  0.  0.  0.]]\n",
            "\n",
            " [[nan nan nan ... nan nan nan]\n",
            "  [nan nan nan ... nan nan nan]\n",
            "  [nan nan nan ... nan nan nan]\n",
            "  ...\n",
            "  [ 0.  0.  0. ...  0.  0.  0.]\n",
            "  [ 0.  0.  0. ...  0.  0.  0.]\n",
            "  [ 0.  0.  0. ...  0.  0.  0.]]\n",
            "\n",
            " [[nan nan nan ... nan nan nan]\n",
            "  [nan nan nan ... nan nan nan]\n",
            "  [nan nan nan ... nan nan nan]\n",
            "  ...\n",
            "  [ 0.  0.  0. ...  0.  0.  0.]\n",
            "  [ 0.  0.  0. ...  0.  0.  0.]\n",
            "  [ 0.  0.  0. ...  0.  0.  0.]]\n",
            "\n",
            " [[nan nan nan ... nan nan nan]\n",
            "  [nan nan nan ... nan nan nan]\n",
            "  [nan nan nan ... nan nan nan]\n",
            "  ...\n",
            "  [ 0.  0.  0. ...  0.  0.  0.]\n",
            "  [ 0.  0.  0. ...  0.  0.  0.]\n",
            "  [ 0.  0.  0. ...  0.  0.  0.]]]\n"
          ]
        }
      ],
      "source": [
        "def read_data_locally(files):\n",
        "    tensor = create_tensor(files)\n",
        "\n",
        "    # READ ALL THE FILES AND FILL THE TENSOR IN THE CORRESPONDING PLACE\n",
        "    # array of indices of row to fill\n",
        "    # EDA, BVP, ACCX, ACCY, ACCZ, TEMP\n",
        "    arr_idx = [0, 0, 0, 0, 0, 0]\n",
        "    for name_file in files:\n",
        "      # DataFrame\n",
        "      table = pd.read_parquet(name_file, engine='pyarrow')\n",
        "      # creating DataFrame\n",
        "      df = pd.DataFrame(table)\n",
        "      # converting timestamp\n",
        "      timestamp_col = pd.to_datetime(df['timestamp'], unit='s')\n",
        "      df['timestamp'] = timestamp_col\n",
        "      # get if file it's among EDA, BVP, ACC, ST, otherwise return error\n",
        "      arr_type = type_file(name_file)\n",
        "      if arr_type == -1:\n",
        "          print(\"Error in the file name\")\n",
        "          return -1\n",
        "\n",
        "      # RESAMPLE the tensor\n",
        "      # 0 means it's already 4Hz, otherwise resample with '250ms'\n",
        "      if arr_type[0] != 0:\n",
        "          df = df.resample(arr_type[0], on='timestamp').mean()\n",
        "          df = df.reset_index()\n",
        "\n",
        "\n",
        "\n",
        "      # FILL the tensor\n",
        "      # number_rows = df.shape[0]//2400 + int(df.shape[0] % 2400 > 0)\n",
        "      number_rows = df.shape[0]//2400\n",
        "      print(number_rows, df.shape[0])\n",
        "      # if not ACC, fill the #st matrix\n",
        "      if arr_type[1] != 2:\n",
        "          position_element_in_column = 0\n",
        "          row_to_fill = arr_idx[arr_type[1]]\n",
        "\n",
        "          for j in range(row_to_fill, number_rows):\n",
        "            # everytime it enter the loop add one row\n",
        "              arr_idx[arr_type[1]] += 1\n",
        "              for k in range(2400):\n",
        "                  tensor[arr_type[1]][j][k] = df['value'][position_element_in_column]\n",
        "                  position_element_in_column += 1\n",
        "      # otherwise fill ACC_X, ACC_Y, ACC_Z\n",
        "      elif arr_type[1] == 2:\n",
        "          list_axis_ACC = ['X', 'Y', 'Z']\n",
        "          for idx, axis in enumerate(list_axis_ACC):\n",
        "              index = 2 + idx\n",
        "              row_to_fill = arr_idx[index]\n",
        "              position_element_in_column = 0\n",
        "              for j in range(row_to_fill, number_rows):\n",
        "                  for k in range(2400):\n",
        "                      tensor[index][j][k] = df[axis][position_element_in_column]\n",
        "                      position_element_in_column += 1\n",
        "          \n",
        "    print(tensor)\n",
        "    # for elem in tensor[1]:\n",
        "    #     print(elem)\n",
        "\n",
        "    # for i in range(0, len(tensor[1])):\n",
        "    #   for j in range(0, len(tensor[1][i])):\n",
        "    #     print(tensor[1][i][j])\n",
        "\n",
        "      \n",
        "list_files = ['./drive/MyDrive/ACC_22.parquet', './drive/MyDrive/BVP_41.parquet', './drive/MyDrive/BVP_26.parquet', './drive/MyDrive/TEMP_25.parquet']\n",
        "read_data_locally(list_files)\n"
      ]
    }
  ],
  "metadata": {
    "colab": {
      "collapsed_sections": [],
      "name": "SimpleFCNN.ipynb",
      "provenance": [],
      "mount_file_id": "1GxsuaSJVLGZpOFl7vSVxBDRjyICvQ2vo",
      "authorship_tag": "ABX9TyO7UWo4+8zphEW+EL7sZwOM",
      "include_colab_link": true
    },
    "kernelspec": {
      "display_name": "Python 3",
      "name": "python3"
    },
    "language_info": {
      "name": "python"
    }
  },
  "nbformat": 4,
  "nbformat_minor": 0
}