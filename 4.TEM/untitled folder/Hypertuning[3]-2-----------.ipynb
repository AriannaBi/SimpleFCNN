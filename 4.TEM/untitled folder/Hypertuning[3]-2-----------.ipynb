{
 "cells": [
  {
   "cell_type": "code",
   "execution_count": 1,
   "id": "99038744",
   "metadata": {},
   "outputs": [],
   "source": [
    "import numpy as np\n",
    "import tensorflow as tf\n",
    "import random as rn\n",
    "import os\n",
    "import sys\n",
    "from functools import reduce\n",
    "from tensorflow.keras.optimizers import SGD\n",
    "from sklearn.linear_model import LogisticRegression\n",
    "\n",
    "import pandas as pd\n",
    "import pyarrow.parquet as pq\n",
    "import csv\n",
    "import glob\n",
    "from keras import models\n",
    "from keras import layers\n",
    "from keras import Input\n",
    "import keras \n",
    "from sklearn.model_selection import train_test_split\n",
    "from tensorflow.keras.optimizers import Adam\n",
    "from keras.models import Sequential\n",
    "from keras.layers import Dense\n",
    "from keras.layers import Conv2D\n",
    "from collections import Counter\n",
    "from keras.callbacks import History\n",
    "from tensorflow.keras.metrics import Recall\n",
    "from tensorflow.keras.metrics import Precision\n",
    "from scipy.interpolate import CubicSpline      # for warping\n",
    "from transforms3d.axangles import axangle2mat  # for rotation\n",
    "import keras_tuner as kt\n",
    "from matplotlib import pyplot\n",
    "import xlsxwriter\n",
    "np.set_printoptions(threshold=sys.maxsize)\n"
   ]
  },
  {
   "cell_type": "code",
   "execution_count": 2,
   "id": "be1de258",
   "metadata": {
    "scrolled": true
   },
   "outputs": [],
   "source": [
    "# ## 1. Jittering\n",
    "\n",
    "# #### Hyperparameters :  sigma = standard devitation (STD) of the noise\n",
    "def DA_Jitter(X, sigma=0.01):\n",
    "    myNoise = np.random.normal(loc=0, scale=sigma, size=X.shape)\n",
    "    return X + myNoise\n",
    "\n",
    "\n",
    "# ## 2. Scaling\n",
    "\n",
    "# #### Hyperparameters :  sigma = STD of the zoom-in/out factor\n",
    "def DA_Scaling(X, sigma=0.5):\n",
    "    scalingFactor = np.random.normal(loc=1.0, scale=sigma, size=(1, X.shape[1]))  # shape=(1,3)\n",
    "    myNoise = np.matmul(np.ones((X.shape[0], 1)), scalingFactor)\n",
    "    return X * myNoise\n",
    "\n",
    "\n",
    "# ## 3. Magnitude Warping\n",
    "\n",
    "# #### Hyperparameters :  sigma = STD of the random knots for generating curves\n",
    "#\n",
    "# #### knot = # of knots for the random curves (complexity of the curves)\n",
    "\n",
    "# \"Scaling\" can be considered as \"applying constant noise to the entire samples\" whereas \"Jittering\" can be considered as \"applying different noise to each sample\".\n",
    "\n",
    "# \"Magnitude Warping\" can be considered as \"applying smoothly-varing noise to the entire samples\"\n",
    "\n",
    "\n",
    "## This example using cubic splice is not the best approach to generate random curves.\n",
    "## You can use other aprroaches, e.g., Gaussian process regression, Bezier curve, etc.\n",
    "def GenerateRandomCurves(X, sigma=0.2, knot=4):\n",
    "    xx = (np.ones((X.shape[1], 1)) * (np.arange(0, X.shape[0], (X.shape[0] - 1) / (knot + 1)))).transpose()\n",
    "    yy = np.random.normal(loc=1.0, scale=sigma, size=(knot + 2, X.shape[1]))\n",
    "    x_range = np.arange(X.shape[0])\n",
    "    random_curves = []\n",
    "    for i in range(X.shape[-1]):\n",
    "        cs = CubicSpline(xx[:, i], yy[:, i])\n",
    "        random_curves.append(cs(x_range))\n",
    "    return np.array(random_curves).transpose()\n",
    "\n",
    "\n",
    "def DA_MagWarp(X, sigma=0.2):\n",
    "    return X * GenerateRandomCurves(X, sigma)\n",
    "\n",
    "\n",
    "# ## 4. Time Warping\n",
    "\n",
    "# #### Hyperparameters :  sigma = STD of the random knots for generating curves\n",
    "#\n",
    "# #### knot = # of knots for the random curves (complexity of the curves)\n",
    "\n",
    "def DistortTimesteps(X, sigma=0.2):\n",
    "    tt = GenerateRandomCurves(X, sigma)  # Regard these samples aroun 1 as time intervals\n",
    "    tt_cum = np.cumsum(tt, axis=0)  # Add intervals to make a cumulative graph\n",
    "    # Make the last value to have X.shape[0]\n",
    "    for i in range(X.shape[-1]):\n",
    "        t_scale = (X.shape[0] - 1) / tt_cum[-1, i]\n",
    "        tt_cum[:, i] = tt_cum[:, i] * t_scale\n",
    "    return tt_cum\n",
    "\n",
    "\n",
    "def DA_TimeWarp(X, sigma=0.2):\n",
    "    tt_new = DistortTimesteps(X, sigma)\n",
    "    X_new = np.zeros(X.shape)\n",
    "    x_range = np.arange(X.shape[0])\n",
    "    for i in range(X.shape[-1]):\n",
    "        X_new[:, i] = np.interp(x_range, tt_new[:, i], X[:, i])\n",
    "    return X_new\n",
    "\n",
    "\n",
    "# ## 5. Permutation\n",
    "\n",
    "# #### Hyperparameters :  nPerm = # of segments to permute\n",
    "# #### minSegLength = allowable minimum length for each segment\n",
    "\n",
    "def DA_Permutation(X, nPerm=4, minSegLength=10):\n",
    "    X_new = np.zeros(X.shape)\n",
    "    idx = np.random.permutation(nPerm)\n",
    "    bWhile = True\n",
    "    while bWhile:\n",
    "        segs = np.zeros(nPerm + 1, dtype=int)\n",
    "        segs[1:-1] = np.sort(np.random.randint(minSegLength, X.shape[0] - minSegLength, nPerm - 1))\n",
    "        segs[-1] = X.shape[0]\n",
    "        if np.min(segs[1:] - segs[0:-1]) > minSegLength:\n",
    "            bWhile = False\n",
    "    pp = 0\n",
    "    for ii in range(nPerm):\n",
    "        x_temp = X[segs[idx[ii]]:segs[idx[ii] + 1], :]\n",
    "        X_new[pp:pp + len(x_temp), :] = x_temp\n",
    "        pp += len(x_temp)\n",
    "    return X_new\n"
   ]
  },
  {
   "cell_type": "code",
   "execution_count": 3,
   "id": "34e34be6",
   "metadata": {
    "scrolled": true
   },
   "outputs": [],
   "source": [
    "def augment_data(train_set, train_label, function):\n",
    "\n",
    "\n",
    "    train_set_one = train_set\n",
    "#     START AUGMENTING\n",
    "    LABEL = []\n",
    "    # select random indices\n",
    "    number_of_rows = int(train_set_one.shape[0] * 0.5)\n",
    "\n",
    "#     random indices has to be the same for every dimension so that the label can be accurate\n",
    "    random_indices = np.sort(np.random.choice(train_set_one.shape[0]-1, size=int(number_of_rows), replace=False))\n",
    "    train_set_one = train_set_one[random_indices,:]\n",
    "    \n",
    "    \n",
    "    train_set_one = train_set_one.transpose()\n",
    "    if function == 'scale':\n",
    "        train_set_one = DA_Scaling(train_set_one)\n",
    "    elif function == 'jitter':\n",
    "        train_set_one = DA_Jitter(train_set_one)\n",
    "    elif function == 'magWarp':\n",
    "        train_set_one = DA_MagWarp(train_set_one)\n",
    "    elif function == 'timeWarp':\n",
    "        train_set_one = DA_TimeWarp(train_set_one)\n",
    "    elif function == 'rotation':\n",
    "        train_set_one = DA_Rotation(train_set_one)\n",
    "    elif function == 'permutation':\n",
    "        train_set_one = DA_Permutation(train_set_one)\n",
    "    else:\n",
    "        print(\"Error no augmentation function\")\n",
    "        return -1\n",
    "    train_set_one = train_set_one.transpose()\n",
    "        \n",
    "    \n",
    "    # take the label and add them as the label for the new augmented data\n",
    "    LABEL = np.array(train_label[random_indices])\n",
    "#     we have ARR which is of shape (6, row, col) with the augmented data\n",
    "#     and train_set which is of shape (6, row, col) with the non augmented data\n",
    "    \n",
    "    train_set_augmented = np.concatenate((train_set, train_set_one), axis = 0)\n",
    "    print(train_set[0,0])\n",
    "    print(train_set_one[0,0])\n",
    "    train_label = np.array(train_label)\n",
    "    label_set_augmented = np.concatenate((train_label, LABEL))\n",
    "    \n",
    "    return train_set_augmented, label_set_augmented\n"
   ]
  },
  {
   "cell_type": "code",
   "execution_count": 6,
   "id": "a1288c5e",
   "metadata": {},
   "outputs": [],
   "source": [
    "def model_network():\n",
    "    seed_value = 34567892\n",
    "    os.environ['PYTHONHASHSEED']=str(seed_value)\n",
    "    tf.random.set_seed(seed_value)\n",
    "\n",
    "    \n",
    "    model = Sequential()\n",
    "    model.add(Input(shape=(2400,)))\n",
    "#     model.add(layers.BatchNormalization(input_shape=(2400,)))\n",
    "#     model.add(Dense(128, activation='relu'))\n",
    "    model.add(Dense(32, activation='relu'))\n",
    "#     model.add(Dense(200, activation='relu'))\n",
    "    model.add(Dense(1, activation='sigmoid'))\n",
    "#     opt = SGD(learning_rate=0.000001,momentum=0.9)\n",
    "    opt = Adam(learning_rate= 0.0000001)\n",
    "    model.compile(optimizer=opt, loss='binary_crossentropy', metrics=['accuracy', Recall(), Precision()])\n",
    "    return model"
   ]
  },
  {
   "cell_type": "code",
   "execution_count": 7,
   "id": "f7fdc58b",
   "metadata": {
    "scrolled": true
   },
   "outputs": [
    {
     "name": "stdout",
     "output_type": "stream",
     "text": [
      "Epoch 1/100\n",
      "64/64 - 1s - loss: 0.7665 - accuracy: 0.5094 - recall_6: 0.0015 - precision_6: 0.0784 - 569ms/epoch - 9ms/step\n",
      "Epoch 2/100\n",
      "64/64 - 0s - loss: 0.6940 - accuracy: 0.4690 - recall_6: 0.2212 - precision_6: 0.4078 - 136ms/epoch - 2ms/step\n",
      "Epoch 3/100\n",
      "64/64 - 0s - loss: 0.6927 - accuracy: 0.4663 - recall_6: 0.2937 - precision_6: 0.4238 - 135ms/epoch - 2ms/step\n",
      "Epoch 4/100\n",
      "64/64 - 0s - loss: 0.6926 - accuracy: 0.4947 - recall_6: 0.4078 - precision_6: 0.4728 - 143ms/epoch - 2ms/step\n",
      "Epoch 5/100\n",
      "64/64 - 0s - loss: 0.6926 - accuracy: 0.4788 - recall_6: 0.3467 - precision_6: 0.4484 - 150ms/epoch - 2ms/step\n",
      "Epoch 6/100\n",
      "64/64 - 0s - loss: 0.6926 - accuracy: 0.5121 - recall_6: 0.4623 - precision_6: 0.4942 - 144ms/epoch - 2ms/step\n",
      "Epoch 7/100\n",
      "64/64 - 0s - loss: 0.6927 - accuracy: 0.4971 - recall_6: 0.3828 - precision_6: 0.4740 - 147ms/epoch - 2ms/step\n",
      "Epoch 8/100\n",
      "64/64 - 0s - loss: 0.6927 - accuracy: 0.5032 - recall_6: 0.4243 - precision_6: 0.4834 - 144ms/epoch - 2ms/step\n",
      "Epoch 9/100\n",
      "64/64 - 0s - loss: 0.6925 - accuracy: 0.5454 - recall_6: 0.5816 - precision_6: 0.5263 - 147ms/epoch - 2ms/step\n",
      "Epoch 10/100\n",
      "64/64 - 0s - loss: 0.6927 - accuracy: 0.4973 - recall_6: 0.3860 - precision_6: 0.4745 - 151ms/epoch - 2ms/step\n",
      "Epoch 11/100\n",
      "64/64 - 0s - loss: 0.6926 - accuracy: 0.4717 - recall_6: 0.2864 - precision_6: 0.4291 - 150ms/epoch - 2ms/step\n",
      "Epoch 12/100\n",
      "64/64 - 0s - loss: 0.6926 - accuracy: 0.4958 - recall_6: 0.4043 - precision_6: 0.4739 - 141ms/epoch - 2ms/step\n",
      "Epoch 13/100\n",
      "64/64 - 0s - loss: 0.6926 - accuracy: 0.5034 - recall_6: 0.4260 - precision_6: 0.4836 - 141ms/epoch - 2ms/step\n",
      "Epoch 14/100\n",
      "64/64 - 0s - loss: 0.6926 - accuracy: 0.5024 - recall_6: 0.4255 - precision_6: 0.4825 - 145ms/epoch - 2ms/step\n",
      "evaluate original:  [0.6893077492713928, 0.45868152379989624, 0.23999999463558197, 0.40645161271095276]\n"
     ]
    },
    {
     "data": {
      "image/png": "[encoded data removed]",
      "text/plain": [
       "<Figure size 432x288 with 1 Axes>"
      ]
     },
     "metadata": {
      "needs_background": "light"
     },
     "output_type": "display_data"
    },
    {
     "name": "stdout",
     "output_type": "stream",
     "text": [
      "jitter\n",
      "28.95\n",
      "29.572875371524418\n",
      "evaluate augmented :  jitter [0.6892637014389038, 0.46146702766418457, 0.24571429193019867, 0.4121405780315399]\n"
     ]
    },
    {
     "data": {
      "image/png": "[encoded data removed]",
      "text/plain": [
       "<Figure size 432x288 with 1 Axes>"
      ]
     },
     "metadata": {
      "needs_background": "light"
     },
     "output_type": "display_data"
    },
    {
     "name": "stdout",
     "output_type": "stream",
     "text": [
      "[46.14670276641846]\n",
      "46.15% (+/- 0.00%)\n",
      "scale\n",
      "28.95\n",
      "13.80135498691927\n",
      "evaluate augmented :  scale [0.6859952211380005, 0.5580315589904785, 0.5276190638542175, 0.5485148429870605]\n"
     ]
    },
    {
     "data": {
      "image/png": "[encoded data removed]",
      "text/plain": [
       "<Figure size 432x288 with 1 Axes>"
      ]
     },
     "metadata": {
      "needs_background": "light"
     },
     "output_type": "display_data"
    },
    {
     "name": "stdout",
     "output_type": "stream",
     "text": [
      "[55.80315589904785]\n",
      "55.80% (+/- 0.00%)\n",
      "magWarp\n",
      "28.95\n",
      "30.12268939907557\n",
      "evaluate augmented :  magWarp [0.6992530822753906, 0.5023212432861328, 0.0019047618843615055, 0.07692307978868484]\n"
     ]
    },
    {
     "data": {
      "image/png": "[encoded data removed]",
      "text/plain": [
       "<Figure size 432x288 with 1 Axes>"
      ]
     },
     "metadata": {
      "needs_background": "light"
     },
     "output_type": "display_data"
    },
    {
     "name": "stdout",
     "output_type": "stream",
     "text": [
      "[50.23212432861328]\n",
      "50.23% (+/- 0.00%)\n",
      "timeWarp\n",
      "28.95\n",
      "28.59\n",
      "evaluate augmented :  timeWarp [0.6892212629318237, 0.4883936941623688, 0.3580952286720276, 0.46766167879104614]\n"
     ]
    },
    {
     "data": {
      "image/png": "[encoded data removed]",
      "text/plain": [
       "<Figure size 432x288 with 1 Axes>"
      ]
     },
     "metadata": {
      "needs_background": "light"
     },
     "output_type": "display_data"
    },
    {
     "name": "stdout",
     "output_type": "stream",
     "text": [
      "[48.83936941623688]\n",
      "48.84% (+/- 0.00%)\n",
      "permutation\n",
      "28.95\n",
      "29.57\n",
      "evaluate augmented :  permutation [0.6892146468162537, 0.5116063356399536, 0.4266666769981384, 0.4988864064216614]\n"
     ]
    },
    {
     "data": {
      "image/png": "[encoded data removed]",
      "text/plain": [
       "<Figure size 432x288 with 1 Axes>"
      ]
     },
     "metadata": {
      "needs_background": "light"
     },
     "output_type": "display_data"
    },
    {
     "name": "stdout",
     "output_type": "stream",
     "text": [
      "[51.16063356399536]\n",
      "51.16% (+/- 0.00%)\n"
     ]
    }
   ],
   "source": [
    "# for each technique run tec_len times the model to obtain an average of accuracy and fill the csv table with results\n",
    "techniques = ['jitter', 'scale', 'magWarp', 'timeWarp', 'permutation']\n",
    "# techniques = ['jitter']\n",
    "\n",
    "arr_eda, arr_bvc,arr_acc,arr_tem = [],[],[],[]\n",
    "std_arr = []\n",
    "arr_eda_percentage, arr_bvc_percentage,arr_acc_percentage,arr_tem_percentage = [],[],[],[]\n",
    "tec_eda, tec_bvc, tec_acc, tec_tem = 0,0,0,0\n",
    "\n",
    "recall_eda, recall_bvc, recall_acc, recall_tem = [],[],[],[]\n",
    "precision_eda, precision_bvc, precision_acc, precision_tem = [],[],[],[]\n",
    "\n",
    "train_set = np.load('train_set_original.npy',  encoding='ASCII')\n",
    "train_label = np.load('train_label_original.npy',  encoding='ASCII')\n",
    "test_set = np.load('test_set.npy',  encoding='ASCII')\n",
    "test_label = np.load('test_label.npy',  encoding='ASCII')\n",
    "train_label = train_label.reshape(train_label.shape[0], 1)\n",
    "test_label = test_label.reshape(test_label.shape[0], 1)\n",
    "\n",
    "\n",
    "\n",
    "train_set_arr = train_set[3]\n",
    "test_set_arr = test_set[3]\n",
    "\n",
    "model = model_network()\n",
    "\n",
    "# ORIGINAL SET\n",
    "callback = tf.keras.callbacks.EarlyStopping(monitor='loss', patience=5)\n",
    "history = model.fit(train_set_arr, train_label, epochs=100, batch_size= 256, shuffle=True, verbose=2, callbacks=[callback])\n",
    "scores1 = model.evaluate(test_set_arr, test_label, verbose=0)\n",
    "print(\"evaluate original: \",scores1)\n",
    "tec_eda = scores1[1]\n",
    "recall_original = scores1[2]\n",
    "precision_original = scores1[3]\n",
    "\n",
    "recall_eda.append(recall_original)\n",
    "precision_eda.append(precision_original)\n",
    "\n",
    "pyplot.plot(history.history['loss'], label='train')\n",
    "pyplot.legend()\n",
    "pyplot.show()\n",
    "            \n",
    "# --------------------------------------------------------------------\n",
    "\n",
    "\n",
    "for technique in techniques:\n",
    "    print(technique)\n",
    "    avg_tec_eda = []\n",
    "    \n",
    "    recall_original, precision_original, recall_aug, precision_aug = 0,0,0,0\n",
    "    cvscores = []\n",
    "    \n",
    "    tec_len = 1\n",
    "    \n",
    "# loop tec_len times to get the average of a tecnique\n",
    "    for avg_t in range(0, tec_len):\n",
    "        train_set = np.load('train_set_original.npy',  encoding='ASCII')\n",
    "        train_label = np.load('train_label_original.npy',  encoding='ASCII')\n",
    "        test_set = np.load('test_set.npy',  encoding='ASCII')\n",
    "        test_label = np.load('test_label.npy',  encoding='ASCII')\n",
    "        train_label = train_label.reshape(train_label.shape[0], 1)\n",
    "        test_label = test_label.reshape(test_label.shape[0], 1)\n",
    "\n",
    "        train_set_arr_augment, label_set_augmented = augment_data(train_set[3], train_label, technique)\n",
    "        \n",
    "#         train_set_arr_augment = train_set_augmented[3]\n",
    "    \n",
    "        test_set_arr = test_set[3]\n",
    "        model = model_network()\n",
    "\n",
    "        # AUGMENTATION\n",
    "        callback = tf.keras.callbacks.EarlyStopping(monitor='loss', patience=5)\n",
    "        history = model.fit(train_set_arr_augment, label_set_augmented, epochs=100, batch_size= 256, shuffle=True,verbose=0, callbacks = [callback])\n",
    "        scores2 = model.evaluate(test_set_arr, test_label,verbose=0)\n",
    "        #     --------------------------------------------------------------------\n",
    "        print(\"evaluate augmented : \", technique, scores2)\n",
    "\n",
    "        avg_tec_eda.append(scores2[1])\n",
    "        std_arr.append(scores2[1])\n",
    "        cvscores.append(scores2[1] * 100)\n",
    "        recall_aug += scores2[2]\n",
    "        precision_aug += scores2[3]\n",
    "\n",
    "        pyplot.plot(history.history['loss'], label='train')\n",
    "        pyplot.legend()\n",
    "        pyplot.show()\n",
    " \n",
    "\n",
    "    arr_eda.append(np.mean(avg_tec_eda))\n",
    "    recall_eda.append(recall_aug/tec_len)\n",
    "    precision_eda.append(precision_aug/tec_len)\n",
    "    print(cvscores)\n",
    "    print(\"%.2f%% (+/- %.2f%%)\" % (np.mean(cvscores), np.std(cvscores)))\n",
    "#     std_arr.append(np.std(cvscores))\n",
    "\n",
    "    arr_eda_percentage.append(round((np.mean(avg_tec_eda) - tec_eda) * 100, 4))\n",
    "\n",
    "\n",
    "# insert eda and baseline\n",
    "arr_eda.insert(0, tec_eda)\n",
    "std_arr = [np.std(std_arr)]\n",
    "std_arr.insert(0, 0)\n",
    "# recall_eda.insert(0, recall_original)\n",
    "# precision_eda.insert(0, precision_original)\n",
    "\n",
    "arr_eda.insert(0, 'EDA')\n",
    "recall_eda.insert(0, 'RECALL')\n",
    "precision_eda.insert(0, 'PRECISION')\n",
    "std_arr.insert(0, 'STD')\n",
    "\n",
    "# print(\"STD: \", std)\n",
    "header = ['sensor', 'baseline', 'jitter', 'scale', 'magWarp', 'timeWarp', 'permutation']\n",
    "\n",
    "with open('table_accuracy.csv', 'w', encoding='UTF8') as f:\n",
    "    writer = csv.writer(f)\n",
    "    writer.writerow(header)\n",
    "    writer.writerow(arr_eda)\n",
    "    writer.writerow(recall_eda)\n",
    "    writer.writerow(precision_eda)\n",
    "    writer.writerow(std_arr)\n",
    "    writer.writerow([])\n",
    "    arr_eda_percentage.insert(0, 0)\n",
    "    arr_eda_percentage.insert(0, 'EDA')\n",
    "    writer.writerow(arr_eda_percentage)\n",
    "\n",
    "\n"
   ]
  },
  {
   "cell_type": "code",
   "execution_count": null,
   "id": "c9a304ab",
   "metadata": {},
   "outputs": [],
   "source": []
  }
 ],
 "metadata": {
  "kernelspec": {
   "display_name": "Python 3 (ipykernel)",
   "language": "python",
   "name": "python3"
  },
  "language_info": {
   "codemirror_mode": {
    "name": "ipython",
    "version": 3
   },
   "file_extension": ".py",
   "mimetype": "text/x-python",
   "name": "python",
   "nbconvert_exporter": "python",
   "pygments_lexer": "ipython3",
   "version": "3.10.0"
  }
 },
 "nbformat": 4,
 "nbformat_minor": 5
}
