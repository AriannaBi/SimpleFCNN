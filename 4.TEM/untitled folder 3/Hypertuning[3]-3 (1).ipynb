{
 "cells": [
  {
   "cell_type": "code",
   "execution_count": 1,
   "id": "99038744",
   "metadata": {},
   "outputs": [],
   "source": [
    "import numpy as np\n",
    "import tensorflow as tf\n",
    "import random as rn\n",
    "import os\n",
    "import sys\n",
    "from functools import reduce\n",
    "from tensorflow.keras.optimizers import SGD\n",
    "from sklearn.linear_model import LogisticRegression\n",
    "\n",
    "import pandas as pd\n",
    "import pyarrow.parquet as pq\n",
    "import csv\n",
    "import glob\n",
    "from keras import models\n",
    "from keras import layers\n",
    "from keras import Input\n",
    "import keras \n",
    "from sklearn.model_selection import train_test_split\n",
    "from tensorflow.keras.optimizers import Adam\n",
    "from keras.models import Sequential\n",
    "from keras.layers import Dense\n",
    "from keras.layers import Conv2D\n",
    "from collections import Counter\n",
    "from keras.callbacks import History\n",
    "from tensorflow.keras.metrics import Recall\n",
    "from tensorflow.keras.metrics import Precision\n",
    "from scipy.interpolate import CubicSpline      # for warping\n",
    "from transforms3d.axangles import axangle2mat  # for rotation\n",
    "import keras_tuner as kt\n",
    "from matplotlib import pyplot\n",
    "import xlsxwriter\n",
    "np.set_printoptions(threshold=sys.maxsize)\n"
   ]
  },
  {
   "cell_type": "code",
   "execution_count": 2,
   "id": "be1de258",
   "metadata": {
    "scrolled": true
   },
   "outputs": [],
   "source": [
    "# ## 1. Jittering\n",
    "\n",
    "# #### Hyperparameters :  sigma = standard devitation (STD) of the noise\n",
    "def DA_Jitter(X, sigma=0.01):\n",
    "    myNoise = np.random.normal(loc=0, scale=sigma, size=X.shape)\n",
    "    return X + myNoise\n",
    "\n",
    "\n",
    "# ## 2. Scaling\n",
    "\n",
    "# #### Hyperparameters :  sigma = STD of the zoom-in/out factor\n",
    "def DA_Scaling(X, sigma=0.5):\n",
    "    scalingFactor = np.random.normal(loc=1.0, scale=sigma, size=(1, X.shape[1]))  # shape=(1,3)\n",
    "    myNoise = np.matmul(np.ones((X.shape[0], 1)), scalingFactor)\n",
    "    return X * myNoise\n",
    "\n",
    "\n",
    "# ## 3. Magnitude Warping\n",
    "\n",
    "# #### Hyperparameters :  sigma = STD of the random knots for generating curves\n",
    "#\n",
    "# #### knot = # of knots for the random curves (complexity of the curves)\n",
    "\n",
    "# \"Scaling\" can be considered as \"applying constant noise to the entire samples\" whereas \"Jittering\" can be considered as \"applying different noise to each sample\".\n",
    "\n",
    "# \"Magnitude Warping\" can be considered as \"applying smoothly-varing noise to the entire samples\"\n",
    "\n",
    "\n",
    "## This example using cubic splice is not the best approach to generate random curves.\n",
    "## You can use other aprroaches, e.g., Gaussian process regression, Bezier curve, etc.\n",
    "def GenerateRandomCurves(X, sigma=0.2, knot=4):\n",
    "    xx = (np.ones((X.shape[1], 1)) * (np.arange(0, X.shape[0], (X.shape[0] - 1) / (knot + 1)))).transpose()\n",
    "    yy = np.random.normal(loc=1.0, scale=sigma, size=(knot + 2, X.shape[1]))\n",
    "    x_range = np.arange(X.shape[0])\n",
    "    random_curves = []\n",
    "    for i in range(X.shape[-1]):\n",
    "        cs = CubicSpline(xx[:, i], yy[:, i])\n",
    "        random_curves.append(cs(x_range))\n",
    "    return np.array(random_curves).transpose()\n",
    "\n",
    "\n",
    "def DA_MagWarp(X, sigma=0.2):\n",
    "    return X * GenerateRandomCurves(X, sigma)\n",
    "\n",
    "\n",
    "# ## 4. Time Warping\n",
    "\n",
    "# #### Hyperparameters :  sigma = STD of the random knots for generating curves\n",
    "#\n",
    "# #### knot = # of knots for the random curves (complexity of the curves)\n",
    "\n",
    "def DistortTimesteps(X, sigma=0.2):\n",
    "    tt = GenerateRandomCurves(X, sigma)  # Regard these samples aroun 1 as time intervals\n",
    "    tt_cum = np.cumsum(tt, axis=0)  # Add intervals to make a cumulative graph\n",
    "    # Make the last value to have X.shape[0]\n",
    "    for i in range(X.shape[-1]):\n",
    "        t_scale = (X.shape[0] - 1) / tt_cum[-1, i]\n",
    "        tt_cum[:, i] = tt_cum[:, i] * t_scale\n",
    "    return tt_cum\n",
    "\n",
    "\n",
    "def DA_TimeWarp(X, sigma=0.2):\n",
    "    tt_new = DistortTimesteps(X, sigma)\n",
    "    X_new = np.zeros(X.shape)\n",
    "    x_range = np.arange(X.shape[0])\n",
    "    for i in range(X.shape[-1]):\n",
    "        X_new[:, i] = np.interp(x_range, tt_new[:, i], X[:, i])\n",
    "    return X_new\n",
    "\n",
    "\n",
    "# ## 5. Permutation\n",
    "\n",
    "# #### Hyperparameters :  nPerm = # of segments to permute\n",
    "# #### minSegLength = allowable minimum length for each segment\n",
    "\n",
    "def DA_Permutation(X, nPerm=4, minSegLength=10):\n",
    "    X_new = np.zeros(X.shape)\n",
    "    idx = np.random.permutation(nPerm)\n",
    "    bWhile = True\n",
    "    while bWhile:\n",
    "        segs = np.zeros(nPerm + 1, dtype=int)\n",
    "        segs[1:-1] = np.sort(np.random.randint(minSegLength, X.shape[0] - minSegLength, nPerm - 1))\n",
    "        segs[-1] = X.shape[0]\n",
    "        if np.min(segs[1:] - segs[0:-1]) > minSegLength:\n",
    "            bWhile = False\n",
    "    pp = 0\n",
    "    for ii in range(nPerm):\n",
    "        x_temp = X[segs[idx[ii]]:segs[idx[ii] + 1], :]\n",
    "        X_new[pp:pp + len(x_temp), :] = x_temp\n",
    "        pp += len(x_temp)\n",
    "    return X_new\n"
   ]
  },
  {
   "cell_type": "code",
   "execution_count": 3,
   "id": "34e34be6",
   "metadata": {
    "scrolled": true
   },
   "outputs": [],
   "source": [
    "def augment_data(train_set, train_label, function):\n",
    "\n",
    "\n",
    "    train_set_one = train_set\n",
    "#     START AUGMENTING\n",
    "    LABEL = []\n",
    "    # select random indices\n",
    "    number_of_rows = int(train_set_one.shape[0] * 0.8)\n",
    "\n",
    "#     random indices has to be the same for every dimension so that the label can be accurate\n",
    "    random_indices = np.sort(np.random.choice(train_set_one.shape[0]-1, size=int(number_of_rows), replace=False))\n",
    "    train_set_one = train_set_one[random_indices,:]\n",
    "    \n",
    "    \n",
    "    train_set_one = train_set_one.transpose()\n",
    "    if function == 'scale':\n",
    "        train_set_one = DA_Scaling(train_set_one)\n",
    "    elif function == 'jitter':\n",
    "        train_set_one = DA_Jitter(train_set_one)\n",
    "    elif function == 'magWarp':\n",
    "        train_set_one = DA_MagWarp(train_set_one)\n",
    "    elif function == 'timeWarp':\n",
    "        train_set_one = DA_TimeWarp(train_set_one)\n",
    "    elif function == 'rotation':\n",
    "        train_set_one = DA_Rotation(train_set_one)\n",
    "    elif function == 'permutation':\n",
    "        train_set_one = DA_Permutation(train_set_one)\n",
    "    else:\n",
    "        print(\"Error no augmentation function\")\n",
    "        return -1\n",
    "    train_set_one = train_set_one.transpose()\n",
    "        \n",
    "    \n",
    "    # take the label and add them as the label for the new augmented data\n",
    "    LABEL = np.array(train_label[random_indices])\n",
    "#     we have ARR which is of shape (6, row, col) with the augmented data\n",
    "#     and train_set which is of shape (6, row, col) with the non augmented data\n",
    "    \n",
    "    train_set_augmented = np.concatenate((train_set, train_set_one), axis = 0)\n",
    "    print(train_set[0,0])\n",
    "    print(train_set_one[0,0])\n",
    "    train_label = np.array(train_label)\n",
    "    label_set_augmented = np.concatenate((train_label, LABEL))\n",
    "    \n",
    "    return train_set_augmented, label_set_augmented\n"
   ]
  },
  {
   "cell_type": "code",
   "execution_count": 4,
   "id": "a1288c5e",
   "metadata": {},
   "outputs": [],
   "source": [
    "def model_network():\n",
    "    seed_value = 34567892\n",
    "    os.environ['PYTHONHASHSEED']=str(seed_value)\n",
    "    tf.random.set_seed(seed_value)\n",
    "\n",
    "    \n",
    "    model = Sequential()\n",
    "    model.add(Input(shape=(2400,)))\n",
    "#     model.add(layers.BatchNormalization(input_shape=(2400,)))\n",
    "#     model.add(Dense(128, activation='relu'))\n",
    "    model.add(Dense(300, activation='relu'))\n",
    "#     model.add(Dense(128, activation='relu'))\n",
    "#     model.add(Dense(64, activation='relu'))\n",
    "    model.add(Dense(1, activation='sigmoid'))\n",
    "    opt = SGD(learning_rate=0.00001,momentum=0.4)\n",
    "#     opt = Adam(learning_rate= 0.0001)\n",
    "    model.compile(optimizer=opt, loss='binary_crossentropy', metrics=['accuracy', Recall(), Precision()])\n",
    "    return model\n",
    "# def model_network():\n",
    "#     seed_value = 34567892\n",
    "#     os.environ['PYTHONHASHSEED']=str(seed_value)\n",
    "#     tf.random.set_seed(seed_value)\n",
    "        \n",
    "# #     callback = tf.keras.callbacks.EarlyStopping(monitor='loss', patience=3)\n",
    "#     model = Sequential()\n",
    "# #     model.add(Dense(256, activation='relu', input_shape=(2400,)))\n",
    "# #     model.add(Dense(128, activation='relu', input_shape=(2400,)))\n",
    "#     model.add(Dense(32, activation='relu', input_shape=(2400,)))\n",
    "#     model.add(Dense(1, activation='sigmoid'))\n",
    "#     opt = Adam(learning_rate=0.001)\n",
    "#     model.compile(optimizer=opt, loss='binary_crossentropy', metrics=['accuracy', Recall(), Precision()])\n",
    "#     return model"
   ]
  },
  {
   "cell_type": "code",
   "execution_count": 5,
   "id": "f7fdc58b",
   "metadata": {
    "scrolled": true
   },
   "outputs": [
    {
     "name": "stderr",
     "output_type": "stream",
     "text": [
      "2022-06-02 12:36:11.593034: I tensorflow/core/platform/cpu_feature_guard.cc:151] This TensorFlow binary is optimized with oneAPI Deep Neural Network Library (oneDNN) to use the following CPU instructions in performance-critical operations:  AVX2 FMA\n",
      "To enable them in other operations, rebuild TensorFlow with the appropriate compiler flags.\n"
     ]
    },
    {
     "name": "stdout",
     "output_type": "stream",
     "text": [
      "Epoch 1/25\n",
      "127/127 - 2s - loss: 3.1431 - accuracy: 0.4971 - recall: 0.5166 - precision: 0.4805 - 2s/epoch - 15ms/step\n",
      "Epoch 2/25\n",
      "127/127 - 1s - loss: 2.2772 - accuracy: 0.5096 - recall: 0.5125 - precision: 0.4923 - 710ms/epoch - 6ms/step\n",
      "Epoch 3/25\n",
      "127/127 - 1s - loss: 2.3845 - accuracy: 0.5006 - recall: 0.5119 - precision: 0.4836 - 634ms/epoch - 5ms/step\n",
      "Epoch 4/25\n",
      "127/127 - 1s - loss: 2.3221 - accuracy: 0.5044 - recall: 0.5036 - precision: 0.4870 - 528ms/epoch - 4ms/step\n",
      "Epoch 5/25\n",
      "127/127 - 1s - loss: 2.4613 - accuracy: 0.5024 - recall: 0.4976 - precision: 0.4849 - 535ms/epoch - 4ms/step\n",
      "Epoch 6/25\n",
      "127/127 - 1s - loss: 2.2720 - accuracy: 0.5005 - recall: 0.4943 - precision: 0.4830 - 561ms/epoch - 4ms/step\n",
      "Epoch 7/25\n",
      "127/127 - 1s - loss: 2.3474 - accuracy: 0.5032 - recall: 0.5147 - precision: 0.4862 - 566ms/epoch - 4ms/step\n",
      "Epoch 8/25\n",
      "127/127 - 1s - loss: 2.1551 - accuracy: 0.4977 - recall: 0.4731 - precision: 0.4794 - 518ms/epoch - 4ms/step\n",
      "Epoch 9/25\n",
      "127/127 - 1s - loss: 2.2736 - accuracy: 0.5018 - recall: 0.4936 - precision: 0.4842 - 537ms/epoch - 4ms/step\n",
      "Epoch 10/25\n",
      "127/127 - 1s - loss: 2.4618 - accuracy: 0.4901 - recall: 0.4959 - precision: 0.4731 - 506ms/epoch - 4ms/step\n",
      "Epoch 11/25\n",
      "127/127 - 1s - loss: 2.2130 - accuracy: 0.5008 - recall: 0.4971 - precision: 0.4833 - 520ms/epoch - 4ms/step\n",
      "Epoch 12/25\n",
      "127/127 - 1s - loss: 2.1058 - accuracy: 0.5061 - recall: 0.5105 - precision: 0.4888 - 506ms/epoch - 4ms/step\n",
      "Epoch 13/25\n",
      "127/127 - 1s - loss: 2.2565 - accuracy: 0.4930 - recall: 0.4958 - precision: 0.4758 - 525ms/epoch - 4ms/step\n",
      "Epoch 14/25\n",
      "127/127 - 1s - loss: 2.1636 - accuracy: 0.4995 - recall: 0.4963 - precision: 0.4820 - 523ms/epoch - 4ms/step\n",
      "Epoch 15/25\n",
      "127/127 - 0s - loss: 2.0839 - accuracy: 0.4987 - recall: 0.4872 - precision: 0.4810 - 498ms/epoch - 4ms/step\n",
      "Epoch 16/25\n",
      "127/127 - 1s - loss: 2.0401 - accuracy: 0.5031 - recall: 0.5070 - precision: 0.4859 - 519ms/epoch - 4ms/step\n",
      "Epoch 17/25\n",
      "127/127 - 1s - loss: 1.9143 - accuracy: 0.5054 - recall: 0.4997 - precision: 0.4879 - 505ms/epoch - 4ms/step\n",
      "Epoch 18/25\n",
      "127/127 - 1s - loss: 1.9839 - accuracy: 0.5056 - recall: 0.4945 - precision: 0.4880 - 517ms/epoch - 4ms/step\n",
      "Epoch 19/25\n",
      "127/127 - 1s - loss: 2.2926 - accuracy: 0.5065 - recall: 0.4943 - precision: 0.4889 - 561ms/epoch - 4ms/step\n",
      "Epoch 20/25\n",
      "127/127 - 1s - loss: 2.0281 - accuracy: 0.5057 - recall: 0.4941 - precision: 0.4881 - 532ms/epoch - 4ms/step\n",
      "Epoch 21/25\n",
      "127/127 - 1s - loss: 1.9287 - accuracy: 0.5058 - recall: 0.5057 - precision: 0.4885 - 514ms/epoch - 4ms/step\n",
      "Epoch 22/25\n",
      "127/127 - 1s - loss: 1.9012 - accuracy: 0.5005 - recall: 0.5080 - precision: 0.4834 - 504ms/epoch - 4ms/step\n",
      "Epoch 23/25\n",
      "127/127 - 0s - loss: 1.9021 - accuracy: 0.5033 - recall: 0.5041 - precision: 0.4860 - 489ms/epoch - 4ms/step\n",
      "Epoch 24/25\n",
      "127/127 - 1s - loss: 1.7870 - accuracy: 0.5117 - recall: 0.5212 - precision: 0.4945 - 656ms/epoch - 5ms/step\n",
      "Epoch 25/25\n",
      "127/127 - 1s - loss: 1.9847 - accuracy: 0.5029 - recall: 0.4909 - precision: 0.4852 - 674ms/epoch - 5ms/step\n",
      "evaluate original:  [0.7998299598693848, 0.4883936941623688, 0.9961904883384705, 0.4878731369972229]\n"
     ]
    },
    {
     "data": {
      "image/png": "[encoded data removed]",
      "text/plain": [
       "<Figure size 432x288 with 1 Axes>"
      ]
     },
     "metadata": {
      "needs_background": "light"
     },
     "output_type": "display_data"
    },
    {
     "name": "stdout",
     "output_type": "stream",
     "text": [
      "jitter\n",
      "28.95\n",
      "28.586997827734017\n",
      "evaluate augmented :  jitter [2.7741777896881104, 0.48746517300605774, 1.0, 0.48746517300605774]\n"
     ]
    },
    {
     "data": {
      "image/png": "[encoded data removed]",
      "text/plain": [
       "<Figure size 432x288 with 1 Axes>"
      ]
     },
     "metadata": {
      "needs_background": "light"
     },
     "output_type": "display_data"
    },
    {
     "name": "stdout",
     "output_type": "stream",
     "text": [
      "[48.746517300605774]\n",
      "48.75% (+/- 0.00%)\n",
      "scale\n",
      "28.95\n",
      "24.659119207089397\n",
      "evaluate augmented :  scale [1.8427681922912598, 0.4893221855163574, 1.0, 0.4883720874786377]\n"
     ]
    },
    {
     "data": {
      "image/png": "[encoded data removed]",
      "text/plain": [
       "<Figure size 432x288 with 1 Axes>"
      ]
     },
     "metadata": {
      "needs_background": "light"
     },
     "output_type": "display_data"
    },
    {
     "name": "stdout",
     "output_type": "stream",
     "text": [
      "[48.93221855163574]\n",
      "48.93% (+/- 0.00%)\n",
      "magWarp\n",
      "28.95\n",
      "32.43673410410822\n",
      "evaluate augmented :  magWarp [0.8944451212882996, 0.4883936941623688, 1.0, 0.4879182279109955]\n"
     ]
    },
    {
     "data": {
      "image/png": "[encoded data removed]",
      "text/plain": [
       "<Figure size 432x288 with 1 Axes>"
      ]
     },
     "metadata": {
      "needs_background": "light"
     },
     "output_type": "display_data"
    },
    {
     "name": "stdout",
     "output_type": "stream",
     "text": [
      "[48.83936941623688]\n",
      "48.84% (+/- 0.00%)\n",
      "timeWarp\n",
      "28.95\n",
      "28.95\n",
      "evaluate augmented :  timeWarp [3.228773832321167, 0.48746517300605774, 1.0, 0.48746517300605774]\n"
     ]
    },
    {
     "data": {
      "image/png": "[encoded data removed]",
      "text/plain": [
       "<Figure size 432x288 with 1 Axes>"
      ]
     },
     "metadata": {
      "needs_background": "light"
     },
     "output_type": "display_data"
    },
    {
     "name": "stdout",
     "output_type": "stream",
     "text": [
      "[48.746517300605774]\n",
      "48.75% (+/- 0.00%)\n",
      "permutation\n",
      "28.95\n",
      "29.13\n",
      "evaluate augmented :  permutation [1.6475352048873901, 0.4893221855163574, 1.0, 0.4883720874786377]\n"
     ]
    },
    {
     "data": {
      "image/png": "[encoded data removed]",
      "text/plain": [
       "<Figure size 432x288 with 1 Axes>"
      ]
     },
     "metadata": {
      "needs_background": "light"
     },
     "output_type": "display_data"
    },
    {
     "name": "stdout",
     "output_type": "stream",
     "text": [
      "[48.93221855163574]\n",
      "48.93% (+/- 0.00%)\n"
     ]
    }
   ],
   "source": [
    "# for each technique run tec_len times the model to obtain an average of accuracy and fill the csv table with results\n",
    "techniques = ['jitter', 'scale', 'magWarp', 'timeWarp', 'permutation']\n",
    "# techniques = ['jitter']\n",
    "\n",
    "arr_eda, arr_bvc,arr_acc,arr_tem = [],[],[],[]\n",
    "std_arr = []\n",
    "arr_eda_percentage, arr_bvc_percentage,arr_acc_percentage,arr_tem_percentage = [],[],[],[]\n",
    "tec_eda, tec_bvc, tec_acc, tec_tem = 0,0,0,0\n",
    "\n",
    "recall_eda, recall_bvc, recall_acc, recall_tem = [],[],[],[]\n",
    "precision_eda, precision_bvc, precision_acc, precision_tem = [],[],[],[]\n",
    "\n",
    "train_set = np.load('train_set_original.npy',  encoding='ASCII')\n",
    "train_label = np.load('train_label_original.npy',  encoding='ASCII')\n",
    "test_set = np.load('test_set.npy',  encoding='ASCII')\n",
    "test_label = np.load('test_label.npy',  encoding='ASCII')\n",
    "train_label = train_label.reshape(train_label.shape[0], 1)\n",
    "test_label = test_label.reshape(test_label.shape[0], 1)\n",
    "\n",
    "\n",
    "\n",
    "train_set_arr = train_set[3]\n",
    "test_set_arr = test_set[3]\n",
    "\n",
    "model = model_network()\n",
    "\n",
    "# ORIGINAL SET\n",
    "callback = tf.keras.callbacks.EarlyStopping(monitor='loss', patience=5)\n",
    "history = model.fit(train_set_arr, train_label, epochs=25, batch_size= 128, shuffle=True, verbose=2)\n",
    "scores1 = model.evaluate(test_set_arr, test_label, verbose=0)\n",
    "print(\"evaluate original: \",scores1)\n",
    "tec_eda = scores1[1]\n",
    "recall_original = scores1[2]\n",
    "precision_original = scores1[3]\n",
    "\n",
    "recall_eda.append(recall_original)\n",
    "precision_eda.append(precision_original)\n",
    "\n",
    "pyplot.plot(history.history['loss'], label='train')\n",
    "pyplot.legend()\n",
    "pyplot.show()\n",
    "            \n",
    "# --------------------------------------------------------------------\n",
    "\n",
    "\n",
    "for technique in techniques:\n",
    "    print(technique)\n",
    "    avg_tec_eda = []\n",
    "    \n",
    "    recall_original, precision_original, recall_aug, precision_aug = 0,0,0,0\n",
    "    cvscores = []\n",
    "    \n",
    "    tec_len = 1\n",
    "    \n",
    "# loop tec_len times to get the average of a tecnique\n",
    "    for avg_t in range(0, tec_len):\n",
    "        train_set = np.load('train_set_original.npy',  encoding='ASCII')\n",
    "        train_label = np.load('train_label_original.npy',  encoding='ASCII')\n",
    "        test_set = np.load('test_set.npy',  encoding='ASCII')\n",
    "        test_label = np.load('test_label.npy',  encoding='ASCII')\n",
    "        train_label = train_label.reshape(train_label.shape[0], 1)\n",
    "        test_label = test_label.reshape(test_label.shape[0], 1)\n",
    "\n",
    "        train_set_arr_augment, label_set_augmented = augment_data(train_set[3], train_label, technique)\n",
    "    \n",
    "        test_set_arr = test_set[3]\n",
    "        model = model_network()\n",
    "\n",
    "        # AUGMENTATION\n",
    "        callback = tf.keras.callbacks.EarlyStopping(monitor='loss', patience=5)\n",
    "        history = model.fit(train_set_arr_augment, label_set_augmented, epochs=25, batch_size= 128, shuffle=True,verbose=0)\n",
    "        scores2 = model.evaluate(test_set_arr, test_label,verbose=0)\n",
    "        #     --------------------------------------------------------------------\n",
    "        print(\"evaluate augmented : \", technique, scores2)\n",
    "\n",
    "        avg_tec_eda.append(scores2[1])\n",
    "        std_arr.append(scores2[1])\n",
    "        cvscores.append(scores2[1] * 100)\n",
    "        recall_aug += scores2[2]\n",
    "        precision_aug += scores2[3]\n",
    "\n",
    "        pyplot.plot(history.history['loss'], label='train')\n",
    "        pyplot.legend()\n",
    "        pyplot.show()\n",
    " \n",
    "\n",
    "    arr_eda.append(np.mean(avg_tec_eda))\n",
    "    recall_eda.append(recall_aug/tec_len)\n",
    "    precision_eda.append(precision_aug/tec_len)\n",
    "    print(cvscores)\n",
    "    print(\"%.2f%% (+/- %.2f%%)\" % (np.mean(cvscores), np.std(cvscores)))\n",
    "#     std_arr.append(np.std(cvscores))\n",
    "\n",
    "    arr_eda_percentage.append(round((np.mean(avg_tec_eda) - tec_eda) * 100, 4))\n",
    "\n",
    "\n",
    "# insert eda and baseline\n",
    "arr_eda.insert(0, tec_eda)\n",
    "std_arr = [np.std(std_arr)]\n",
    "std_arr.insert(0, 0)\n",
    "# recall_eda.insert(0, recall_original)\n",
    "# precision_eda.insert(0, precision_original)\n",
    "\n",
    "arr_eda.insert(0, 'EDA')\n",
    "recall_eda.insert(0, 'RECALL')\n",
    "precision_eda.insert(0, 'PRECISION')\n",
    "std_arr.insert(0, 'STD')\n",
    "\n",
    "# print(\"STD: \", std)\n",
    "header = ['sensor', 'baseline', 'jitter', 'scale', 'magWarp', 'timeWarp', 'permutation']\n",
    "\n",
    "with open('table_accuracy.csv', 'w', encoding='UTF8') as f:\n",
    "    writer = csv.writer(f)\n",
    "    writer.writerow(header)\n",
    "    writer.writerow(arr_eda)\n",
    "    writer.writerow(recall_eda)\n",
    "    writer.writerow(precision_eda)\n",
    "    writer.writerow(std_arr)\n",
    "    writer.writerow([])\n",
    "    arr_eda_percentage.insert(0, 0)\n",
    "    arr_eda_percentage.insert(0, 'EDA')\n",
    "    writer.writerow(arr_eda_percentage)\n",
    "\n",
    "\n"
   ]
  },
  {
   "cell_type": "code",
   "execution_count": null,
   "id": "c9a304ab",
   "metadata": {},
   "outputs": [],
   "source": []
  }
 ],
 "metadata": {
  "kernelspec": {
   "display_name": "Python 3 (ipykernel)",
   "language": "python",
   "name": "python3"
  },
  "language_info": {
   "codemirror_mode": {
    "name": "ipython",
    "version": 3
   },
   "file_extension": ".py",
   "mimetype": "text/x-python",
   "name": "python",
   "nbconvert_exporter": "python",
   "pygments_lexer": "ipython3",
   "version": "3.10.0"
  }
 },
 "nbformat": 4,
 "nbformat_minor": 5
}
